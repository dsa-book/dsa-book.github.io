{
 "cells": [
  {
   "cell_type": "markdown",
   "id": "908a785e-fb98-4d83-88d4-046c0e384f63",
   "metadata": {},
   "source": [
    "# Interactive Data Structures and Algorithms book\n",
    "\n",
    "This book started as a way to track my progress while learning Data Structures and Algorithms.\n",
    "\n",
    "```{admonition} Why learn from here?\n",
    ":class: tip\n",
    "**In-Browser Live Coding**: Jump straight into coding without the hassle of installations. Click on the fa{rocket} icon, and instantly access a coding workspace within your browser, tailored to fortify your understanding of data structures and algorithms.n.**\r\n",
    "\r\n",
    "Advanced Visualizat**ion: Our platform takes learning a step further with Manim CE, offering in-browser, interactive visualizations. This allows not just to view but also to manipulate and test algorithms with new data sets, offering a deeper understanding through dynamic, visual learnin**g.\r\n",
    "\r\n",
    "Interactive Algorithm T**esting: We go beyond static visualizations. Test and visualize new algorithms or modify existing ones with custom test cases directly within your browser, making complex concepts more accessible and understan\n",
    "\n",
    "**Unified Learning Platform**: We integrate live coding exercises with comprehensive learning materials, ensuring a seamless blend of theory and practical application.dable.\r\n",
    "\r\n",
    "Discover a more effective way to learn data structures and algorithms, all in one place, with no dependencies required. Start your journey to mastery with just a click.\n",
    "```\n",
    "\n",
    "## Testing the \"Live Code\" feature\n",
    "All the code cells in this online book can be edited to strengthen your understanding on DSA. For example, try running the below cell using the \"Run\" button or \"Shift+Enter\""
   ]
  },
  {
   "cell_type": "code",
   "execution_count": 4,
   "id": "f6d1962e-d5df-44bf-a739-56af9d59c119",
   "metadata": {},
   "outputs": [
    {
     "name": "stdout",
     "output_type": "stream",
     "text": [
      "[1, 2, 3, 4, 5, 6]\n",
      "Hello World!\n"
     ]
    }
   ],
   "source": [
    "arr = [1,2,3,4,5,6]\n",
    "print(arr)\n",
    "print(\"Hello World!\")"
   ]
  },
  {
   "cell_type": "code",
   "execution_count": null,
   "id": "11ba82c7-3dbf-4d0d-875f-06dfaae72053",
   "metadata": {},
   "outputs": [],
   "source": []
  },
  {
   "cell_type": "code",
   "execution_count": null,
   "id": "88bc963e-959b-4f67-876c-ab323a55f4b5",
   "metadata": {},
   "outputs": [],
   "source": []
  }
 ],
 "metadata": {
  "kernelspec": {
   "display_name": "Python 3 (ipykernel)",
   "language": "python",
   "name": "python3"
  },
  "language_info": {
   "codemirror_mode": {
    "name": "ipython",
    "version": 3
   },
   "file_extension": ".py",
   "mimetype": "text/x-python",
   "name": "python",
   "nbconvert_exporter": "python",
   "pygments_lexer": "ipython3",
   "version": "3.9.0"
  }
 },
 "nbformat": 4,
 "nbformat_minor": 5
}
