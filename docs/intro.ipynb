{
 "cells": [
  {
   "cell_type": "markdown",
   "id": "908a785e-fb98-4d83-88d4-046c0e384f63",
   "metadata": {},
   "source": [
    "# Interactive Data Structures and Algorithms book\n",
    "\n",
    "This book started as a way to track my progress while learning Data Structures and Algorithms.\n",
    "\n",
    "```{admonition} Live Code within the browser!\n",
    ":class: tip\n",
    "The main feature that sets this online book apart from other resources is the \"Live Code\" option to write or test python code within the browser. Just click on the {fa}`rocket` icon and use the \"Live Code\" feature to edit or write Python code.\n",
    "```\n",
    "\n",
    "## Testing the \"Live Code\" feature\n",
    "All the code cells in this online book can be edited to strengthen your understanding on DSA. For example, try running the below cell using the \"Run\" button or \"Shift+Enter\""
   ]
  },
  {
   "cell_type": "code",
   "execution_count": 4,
   "id": "f6d1962e-d5df-44bf-a739-56af9d59c119",
   "metadata": {},
   "outputs": [
    {
     "name": "stdout",
     "output_type": "stream",
     "text": [
      "[1, 2, 3, 4, 5, 6]\n",
      "Hello World!\n"
     ]
    }
   ],
   "source": [
    "arr = [1,2,3,4,5,6]\n",
    "print(arr)\n",
    "print(\"Hello World!\")"
   ]
  },
  {
   "cell_type": "code",
   "execution_count": null,
   "id": "88bc963e-959b-4f67-876c-ab323a55f4b5",
   "metadata": {},
   "outputs": [],
   "source": []
  }
 ],
 "metadata": {
  "kernelspec": {
   "display_name": "Python 3 (ipykernel)",
   "language": "python",
   "name": "python3"
  },
  "language_info": {
   "codemirror_mode": {
    "name": "ipython",
    "version": 3
   },
   "file_extension": ".py",
   "mimetype": "text/x-python",
   "name": "python",
   "nbconvert_exporter": "python",
   "pygments_lexer": "ipython3",
   "version": "3.9.18"
  }
 },
 "nbformat": 4,
 "nbformat_minor": 5
}
