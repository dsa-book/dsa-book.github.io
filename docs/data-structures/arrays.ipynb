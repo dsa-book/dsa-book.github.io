{
 "cells": [
  {
   "cell_type": "markdown",
   "metadata": {},
   "source": [
    "# Arrays\n",
    "\n",
    "Array can be considered one of the simplest data structure. However, many problems can be framed using the array data structure and hence numerous algorithms exist on array data structure.\n",
    "\n",
    "Having a comprehension on the array data structure is considered essential. In this section of the book, we shall use numerous resources to understand array data structure. **Please note that every code cell in this notebook is interactive. Feel free to play around with the code!!!**\n",
    "\n",
    "## LeetCode Arrays card\n",
    "\n",
    "An array is a collection of items. The items inside the array can be integers, strings, dictionaries, tuples and so on. The items are stored in neighboring (contiguous) memory locations. The array is implemented to dynamically change the size and allocate memory based on the number of elements present in the array. Let's take a look at how to create an array in Python."
   ]
  },
  {
   "cell_type": "code",
   "execution_count": null,
   "metadata": {},
   "outputs": [],
   "source": []
  },
  {
   "cell_type": "markdown",
   "metadata": {},
   "source": []
  },
  {
   "cell_type": "markdown",
   "metadata": {},
   "source": []
  }
 ],
 "metadata": {
  "kernelspec": {
   "display_name": "books",
   "language": "python",
   "name": "python3"
  },
  "language_info": {
   "name": "python",
   "version": "3.9.0"
  }
 },
 "nbformat": 4,
 "nbformat_minor": 2
}
